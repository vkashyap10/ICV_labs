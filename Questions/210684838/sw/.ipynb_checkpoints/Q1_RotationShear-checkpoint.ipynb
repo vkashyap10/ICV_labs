{
 "cells": [
  {
   "cell_type": "markdown",
   "id": "e6499cac",
   "metadata": {},
   "source": [
    "# CV_LAB : Question 1\n",
    "## author : Vishal Kashyap"
   ]
  },
  {
   "cell_type": "code",
   "execution_count": null,
   "id": "5fa955ad",
   "metadata": {},
   "outputs": [],
   "source": [
    "# coordinate frame : x is towards right , y is down"
   ]
  },
  {
   "cell_type": "code",
   "execution_count": null,
   "id": "970d2164",
   "metadata": {},
   "outputs": [],
   "source": [
    "## import necessary libraries\n",
    "import numpy as np\n",
    "import cv2\n",
    "import matplotlib.pyplot as plt\n",
    "from matplotlib.pyplot import figure"
   ]
  },
  {
   "cell_type": "code",
   "execution_count": null,
   "id": "b529f89b",
   "metadata": {},
   "outputs": [],
   "source": [
    "data_path = 'Dataset/Name_Arial_72.jpeg'\n",
    "# create directory to store results\n",
    "!mkdir Results\n",
    "!mkdir Results/Q1\n",
    "!mkdir Results/Q1/partB\n",
    "!mkdir Results/Q1/partC\n",
    "\n",
    "pathB = \"Results/Q1/partB/\"\n",
    "pathC = \"Results/Q1/partC/\""
   ]
  },
  {
   "cell_type": "code",
   "execution_count": null,
   "id": "9637fa04",
   "metadata": {},
   "outputs": [],
   "source": [
    "# load image with name as greyscale\n",
    "im = cv2.imread(data_path)\n",
    "# as opencv loads in BGR format by default, we want to show it in RGB.\n",
    "im = cv2.cvtColor(im, cv2.COLOR_BGR2RGB)"
   ]
  },
  {
   "cell_type": "code",
   "execution_count": null,
   "id": "ee2cc8bb",
   "metadata": {
    "scrolled": true
   },
   "outputs": [],
   "source": [
    "# check if image is loaded properly\n",
    "figure(figsize=(5, 100))\n",
    "plt.imshow(im)"
   ]
  },
  {
   "cell_type": "markdown",
   "id": "d869f651",
   "metadata": {},
   "source": [
    "* It can be seen that origin of image lies on the top left corner. To rotate the image we need to find origin and rotate each pixel about that. \n",
    "* Here x-axis will be column of image and y-axis will be row of image."
   ]
  },
  {
   "cell_type": "markdown",
   "id": "f402c667",
   "metadata": {},
   "source": [
    "# Question 1 a"
   ]
  },
  {
   "cell_type": "code",
   "execution_count": null,
   "id": "311f16c0",
   "metadata": {},
   "outputs": [],
   "source": [
    "print(\"Working on part A\")"
   ]
  },
  {
   "cell_type": "markdown",
   "id": "9e062906",
   "metadata": {},
   "source": [
    "\n",
    "a) Write a function that takes as input an image I, rotates it by an angle θ1 and horizontally skews it by an angle, θ2. Write the matrix formulation for image rotation R(.) and skewing S(.). Define all the variables. Note that the origin of the coordinate system of the programming environment you use might be different from the one shown in the lectures."
   ]
  },
  {
   "cell_type": "markdown",
   "id": "15418d25",
   "metadata": {},
   "source": [
    "## Try forward warping"
   ]
  },
  {
   "cell_type": "code",
   "execution_count": null,
   "id": "71b0dcc3",
   "metadata": {},
   "outputs": [],
   "source": [
    "# ***to decide size of new image just locate new coordiantes of 4 corners!!!"
   ]
  },
  {
   "cell_type": "code",
   "execution_count": null,
   "id": "03b835ac",
   "metadata": {},
   "outputs": [],
   "source": [
    "# function to rotate or shear image counter-clockwise by angle theta using forward warping\n",
    "# input : im_old : image to rotate\n",
    "#         theat : angle to rotate (counter-clockwise)\n",
    "#         transformation matrix : this will control rotation or shear ('rotation' or 'shear')\n",
    "\n",
    "# output : transformed image\n",
    "\n",
    "def ICV_rotate_image_fwd(im_old, theta, transformation):\n",
    "    \n",
    "    # step 1 : find center of image = int(max_row/col /2)\n",
    "    x_center = int(im_old.shape[1]/2.0)\n",
    "    y_center = int(im_old.shape[0]/2.0)\n",
    "    \n",
    "    # step 2 : find new location of each pixel after rotation and fill new matrix\n",
    "    # rotation matrix\n",
    "    if transformation == \"rotation\":\n",
    "        rot_mat = np.array([[np.cos(theta) , np.sin(theta)] , [-np.sin(theta) , np.cos(theta)]])\n",
    "    if transformation == \"shear\":\n",
    "        rot_mat = np.array([[1 , np.tan(theta)] , [0 , 1]])\n",
    "    print(\"performing\", transformation)\n",
    "    \n",
    "    # get transformaed coordinates for 4 corners of image to determine size of new image\n",
    "    min_x,max_x = 1e9,-1e9\n",
    "    min_y,max_y = 1e9,-1e9\n",
    "    \n",
    "    for i in [0,im_old.shape[0]-1]:\n",
    "        for j in [0,im_old.shape[1]-1]:\n",
    "            # old cordinates\n",
    "            old_cordinate = np.array([j-x_center, i-y_center])\n",
    "            # rotate to get new cordinates\n",
    "            new_cordinate = np.matmul(rot_mat, old_cordinate)\n",
    "            new_row = int(np.rint(new_cordinate[1]))\n",
    "            new_col = int(np.rint(new_cordinate[0]))\n",
    "            \n",
    "            # find size of transformed image by looking at where the corners land\n",
    "            if new_row < min_x:\n",
    "                min_x = new_row\n",
    "            if new_row > max_x:\n",
    "                max_x = new_row\n",
    "            if new_col < min_y:\n",
    "                min_y = new_col\n",
    "            if new_col > max_y:\n",
    "                max_y = new_col\n",
    "        \n",
    "    \n",
    "    # new rotated image , initially all grey\n",
    "    im_new = np.zeros((int(max_x - min_x)+10,int(max_y-min_y)+10,3)) + 128\n",
    "                      \n",
    "    # center of transformed image\n",
    "    x_center_new = int(im_new.shape[1]/2.0)\n",
    "    y_center_new = int(im_new.shape[0]/2.0)\n",
    "    \n",
    "    #iterate through each pixel and rotate\n",
    "    for i in range(im_old.shape[0]):\n",
    "        for j in range(im_old.shape[1]):\n",
    "            \n",
    "            # rotate about center of image\n",
    "            old_cordinate = np.array([j-x_center, i-y_center])\n",
    "            new_cordinate = np.matmul(rot_mat, old_cordinate)\n",
    "            \n",
    "            # translate the center back to top-left of image\n",
    "            new_cordinate = new_cordinate + np.array([x_center_new,y_center_new])\n",
    "            \n",
    "            # edge cases,\n",
    "            # if new cordinate below 0 or new cordinate out of array dimension .. continue\n",
    "            new_row = int(np.rint(new_cordinate[1]))\n",
    "            new_col = int(np.rint(new_cordinate[0]))\n",
    "            \n",
    "            #  and store in new image array\n",
    "            im_new[new_row,new_col,:] = im_old[i,j,:]\n",
    "            \n",
    "    return im_new.astype(int)\n",
    "    "
   ]
  },
  {
   "cell_type": "code",
   "execution_count": null,
   "id": "4f6148bc",
   "metadata": {},
   "outputs": [],
   "source": [
    "new_im = ICV_rotate_image_fwd(im, 0.2, 'rotation')"
   ]
  },
  {
   "cell_type": "raw",
   "id": "fb26662a",
   "metadata": {},
   "source": [
    "* The figure has white spots because each pixel in new image does not get filled. \n",
    "* Only those pixels that we obtain as a result of rotation are filled (after rounding off to nearest integer). Also called forward mapping.\n",
    "* To fill all relevent pixel values in the new image, it will be better to try an inverse method.\n",
    "* For each pixel in new rotated image , find corresponding pixel value in original image. Also called inverse mapping.\n",
    "* We can try different methods to find this corresponding pixel value, nearest neighbour interpolation, bilinear interpolation"
   ]
  },
  {
   "cell_type": "markdown",
   "id": "660007c1",
   "metadata": {},
   "source": [
    "## Try inverse warping"
   ]
  },
  {
   "cell_type": "code",
   "execution_count": null,
   "id": "b5be5169",
   "metadata": {},
   "outputs": [],
   "source": [
    "# function to find the size of new images by looking at where the corners in old image land.\n",
    "\n",
    "def ICV_size_new_image(transformation,theta,im_old,x_center,y_center):\n",
    "    # forward rotation matrix\n",
    "    if transformation == \"rotation\":\n",
    "        rot_mat = np.array([[np.cos(theta) , np.sin(theta)] , [-np.sin(theta) , np.cos(theta)]])\n",
    "    if transformation == \"shear\":\n",
    "        rot_mat = np.array([[1 , np.tan(theta)] , [0 , 1]])\n",
    "\n",
    "    # get transformaed coordinates for 4 corners of image to determine size of new image\n",
    "    min_x,max_x = 1e9,-1e9\n",
    "    min_y,max_y = 1e9,-1e9\n",
    "    \n",
    "    for i in [0,im_old.shape[0]-1]:\n",
    "        for j in [0,im_old.shape[1]-1]:\n",
    "            old_cordinate = np.array([j-x_center, i-y_center])\n",
    "            new_cordinate = np.matmul(rot_mat, old_cordinate)\n",
    "            new_row = int(np.rint(new_cordinate[1]))\n",
    "            new_col = int(np.rint(new_cordinate[0]))\n",
    "\n",
    "            if new_row < min_x:\n",
    "                min_x = new_row\n",
    "            if new_row > max_x:\n",
    "                max_x = new_row\n",
    "            if new_col < min_y:\n",
    "                min_y = new_col\n",
    "            if new_col > max_y:\n",
    "                max_y = new_col\n",
    "    \n",
    "    return max_x,max_y,min_x,min_y\n",
    "\n",
    "# function to rotate image clockwise by angle theta (inverse warping) using \"NNI\" or \"BLI\"\n",
    "# input : transformation : whether we want to roatate or shear (\"rotation\",\"shear\")\n",
    "#         theta : angle to rotate (counter clockwise)\n",
    "#         im_old : imge to transform\n",
    "#         mode : if want to use NNI or BLI for interpolation\n",
    "#         \n",
    "# output : rotated image\n",
    "\n",
    "def ICV_rotate_image_inv(im_old, theta, mode,transformation):\n",
    "\n",
    "    # step 1 : find center of image = int(max_row/col /2)\n",
    "    x_center = int(im_old.shape[1]/2.0)\n",
    "    y_center = int(im_old.shape[0]/2.0)\n",
    "    \n",
    "    # step 2 : Use nearest neighbour interpolation to fill pixel values in new image\n",
    "    \n",
    "    # inverse rotation matrix\n",
    "    if transformation == \"rotation\":\n",
    "        rot_mat_inv = np.array([[np.cos(theta) , np.sin(theta)] , [-np.sin(theta) , np.cos(theta)]]).T\n",
    "    if transformation == \"shear\":\n",
    "        rot_mat_inv = np.array([[1 , -np.tan(theta)] , [0 , 1]])\n",
    "    print(\"performing\", transformation)\n",
    "    \n",
    "    # function to get size of new image based on where 4 corners in old image\n",
    "    max_x,max_y,min_x,min_y = ICV_size_new_image(transformation,theta,im_old,x_center,y_center)\n",
    "        \n",
    "    # new rotated image , initially all grey\n",
    "    im_new = np.zeros((int(max_x - min_x)+10,int(max_y-min_y)+10,3)) + 128.0\n",
    "                      \n",
    "    # center of transformed image\n",
    "    x_center_new = int(im_new.shape[1]/2.0)\n",
    "    y_center_new = int(im_new.shape[0]/2.0)\n",
    "    \n",
    "    #iterate through each pixel and rotate\n",
    "    for i in range(im_new.shape[0]):\n",
    "        for j in range(im_new.shape[1]):\n",
    "            \n",
    "            # image center wont rotate , so continue\n",
    "            if(i==y_center_new and j==x_center_new):\n",
    "                continue\n",
    "            \n",
    "            # inverese rotate pixel cordinates, to get original pixel cordinates\n",
    "            new_cordinate = np.array([j-x_center_new, i-y_center_new])\n",
    "            old_cordinate = np.matmul(rot_mat_inv, new_cordinate)\n",
    "            \n",
    "            # translate the center back to top-left of image\n",
    "            old_cordinate = old_cordinate + np.array([x_center,y_center])\n",
    "            \n",
    "            # find nearest pixel to cordinate obatained after rotation.\n",
    "            old_row = int(np.rint(old_cordinate[1]))\n",
    "            old_col = int(np.rint(old_cordinate[0]))\n",
    "            \n",
    "            #  and store in new image array\n",
    "            # perform nearest neighbour or bilinear interpolation depending on \"mode\"\n",
    "            if mode == \"NNI\":\n",
    "                \n",
    "                # check if cordinates obtained after inverse rotation are out of image\n",
    "                out_of_image = old_col >= im_old.shape[1] or old_row >= im_old.shape[0]\n",
    "                if np.sum(old_cordinate<0) or out_of_image:\n",
    "                    continue\n",
    "\n",
    "                im_new[i,j,:] = im_old[old_row,old_col,:]\n",
    "            \n",
    "            # if we want to do bilinear interpolation to fill pixels\n",
    "            if mode == \"BLI\":\n",
    "                x1 = int(np.floor(old_cordinate[0]))\n",
    "                x2 = int(np.ceil(old_cordinate[0]))\n",
    "                y1 = int(np.floor(old_cordinate[1]))\n",
    "                y2 = int(np.ceil(old_cordinate[1]))\n",
    "                x0 = old_cordinate[0]\n",
    "                y0 = old_cordinate[1]\n",
    "                \n",
    "                # check if any of the points, x1,x2,y1,y2 lies outside image, continue\n",
    "                if(x1 < 0 or x2 >= im_old.shape[1]):\n",
    "                    continue\n",
    "                if(y1 < 0 or y2 >= im_old.shape[0]):\n",
    "                    continue\n",
    "\n",
    "                fQ11 = im_old[y1,x1,:]\n",
    "                fQ12 = im_old[y2,x1,:]\n",
    "                fQ21 = im_old[y1,x2,:]\n",
    "                fQ22 = im_old[y2,x2,:]\n",
    "                \n",
    "                \n",
    "                if transformation == \"rotation\":\n",
    "                    \n",
    "                    if(x1 == x2):\n",
    "                        # no bilinear interpolation needed\n",
    "                        fR1 = fQ11\n",
    "                        fR2 = fQ22\n",
    "                    else:\n",
    "                        fR1 = (x2-x0)/(x2-x1)*fQ11 + (x0-x1)/(x2-x1)*fQ21\n",
    "                        fR2 = (x2-x0)/(x2-x1)*fQ12 + (x0-x1)/(x2-x1)*fQ22\n",
    "                    \n",
    "                    if(y1 == y2):\n",
    "                        # no bilinear interpolation needed\n",
    "                        im_new[i,j,:] = fR1\n",
    "                    else:\n",
    "                        im_new[i,j,:] = (y2-y0)/(y2-y1)*fR1 + (y0-y1)/(y2-y1)*fR2\n",
    "                \n",
    "                # since in shear y coordinate remains same\n",
    "                if transformation == \"shear\":\n",
    "                    \n",
    "                    # on center line image will have no shear, so fill old value for those points\n",
    "                    if i==y_center_new:\n",
    "                        \n",
    "                        # check if i,j lies outside old image\n",
    "                        if(old_row>=im_old.shape[0] or old_col>= im_old.shape[1]):\n",
    "                            continue\n",
    "                        im_new[i,j,:] = im_old[old_row,old_col,:]\n",
    "                        continue\n",
    "                        \n",
    "                    im_new[i,j,:] = (x2-x0)/(x2-x1)*fQ11 + (x0-x1)/(x2-x1)*fQ21\n",
    "                \n",
    "            \n",
    "    return im_new.astype(int)\n",
    "    "
   ]
  },
  {
   "cell_type": "markdown",
   "id": "1f10e454",
   "metadata": {},
   "source": [
    "### Nearest neighbour interpolation"
   ]
  },
  {
   "cell_type": "code",
   "execution_count": null,
   "id": "1e91becc",
   "metadata": {
    "scrolled": true
   },
   "outputs": [],
   "source": [
    "im_NNI = ICV_rotate_image_inv(im, 0.2, \"NNI\",\"rotation\")\n",
    "figure(figsize=(14, 11), dpi=80)\n",
    "plt.imshow(im_NNI)"
   ]
  },
  {
   "cell_type": "code",
   "execution_count": null,
   "id": "8d193952",
   "metadata": {
    "scrolled": true
   },
   "outputs": [],
   "source": [
    "im_NNI = ICV_rotate_image_inv(im, 0.2, \"NNI\",\"shear\")\n",
    "figure(figsize=(14, 11), dpi=80)\n",
    "plt.imshow(im_NNI)"
   ]
  },
  {
   "cell_type": "markdown",
   "id": "b8359477",
   "metadata": {},
   "source": [
    "## Bilinear Interpolation"
   ]
  },
  {
   "cell_type": "code",
   "execution_count": null,
   "id": "9890ef6b",
   "metadata": {
    "scrolled": true
   },
   "outputs": [],
   "source": [
    "im_BLI = ICV_rotate_image_inv(im, 0.2, \"BLI\",\"rotation\")\n",
    "figure(figsize=(14, 11), dpi=80)\n",
    "plt.imshow(im_BLI)"
   ]
  },
  {
   "cell_type": "code",
   "execution_count": null,
   "id": "09227582",
   "metadata": {
    "scrolled": true
   },
   "outputs": [],
   "source": [
    "im_BLI = ICV_rotate_image_inv(im, 0.2, \"BLI\",\"shear\")\n",
    "figure(figsize=(14, 11), dpi=80)\n",
    "plt.imshow(im_BLI)"
   ]
  },
  {
   "cell_type": "markdown",
   "id": "b66e2cf2",
   "metadata": {},
   "source": [
    "# Question 1 b"
   ]
  },
  {
   "cell_type": "code",
   "execution_count": null,
   "id": "4d90a1e9",
   "metadata": {},
   "outputs": [],
   "source": [
    "print(\"Working on part B\")"
   ]
  },
  {
   "cell_type": "markdown",
   "id": "8408e175",
   "metadata": {},
   "source": [
    "b) Create an image that contains your name written in Arial, point 72, capital letters. Rotate clockwise the image you created by 30, 60, 120 and -50 degrees. Skew the same image by 10, 40 and 60 degrees. Complete the process so that all the pixels have a value. Discuss in the report the advantages and disadvantages of different approaches."
   ]
  },
  {
   "cell_type": "code",
   "execution_count": null,
   "id": "88521868",
   "metadata": {
    "scrolled": true
   },
   "outputs": [],
   "source": [
    "# rotate by 30\n",
    "im_BLI = ICV_rotate_image_inv(im, -30/180*np.pi, \"BLI\",\"rotation\")\n",
    "fig = plt.figure()\n",
    "plt.title(\"Rotate by 30 degree clockwise\")\n",
    "plt.imshow(im_BLI)\n",
    "fig.savefig(pathB+\"Rotate_30.png\")\n",
    "\n",
    "# rotate by 60\n",
    "im_BLI = ICV_rotate_image_inv(im, -60/180*np.pi, \"BLI\",\"rotation\")\n",
    "fig = plt.figure()\n",
    "plt.title(\"Rotate by 60 degree clockwise\")\n",
    "plt.imshow(im_BLI)\n",
    "fig.savefig(pathB+\"Rotate_60.png\")\n",
    "\n",
    "# rotate by 120\n",
    "im_BLI = ICV_rotate_image_inv(im, -120/180*np.pi, \"BLI\",\"rotation\")\n",
    "fig = plt.figure()\n",
    "plt.title(\"Rotate by 120 degree clockwise\")\n",
    "plt.imshow(im_BLI)\n",
    "fig.savefig(pathB+\"Rotate_120.png\")\n",
    "\n",
    "# rotate by -50\n",
    "im_BLI = ICV_rotate_image_inv(im, 50/180*np.pi, \"BLI\",\"rotation\")\n",
    "fig = plt.figure()\n",
    "plt.title(\"Rotate by -50 degree clockwise\")\n",
    "plt.imshow(im_BLI)\n",
    "fig.savefig(pathB+\"Rotate_anti_50.png\")\n"
   ]
  },
  {
   "cell_type": "code",
   "execution_count": null,
   "id": "4bfecac4",
   "metadata": {
    "scrolled": true
   },
   "outputs": [],
   "source": [
    "# skew by 10\n",
    "im_BLI = ICV_rotate_image_inv(im, -10/180*np.pi, \"BLI\",\"shear\")\n",
    "fig = plt.figure()\n",
    "plt.title(\"shear by 10 degree clockwise\")\n",
    "plt.imshow(im_BLI)\n",
    "fig.savefig(pathB+\"shear_10.png\")\n",
    "\n",
    "# rotate by 40\n",
    "im_BLI = ICV_rotate_image_inv(im, -40/180*np.pi, \"BLI\",\"shear\")\n",
    "fig = plt.figure()\n",
    "plt.title(\"shear by 40 degree clockwise\")\n",
    "plt.imshow(im_BLI)\n",
    "fig.savefig(pathB+\"shear_40.png\")\n",
    "\n",
    "# rotate by 60\n",
    "im_BLI = ICV_rotate_image_inv(im, -60/180*np.pi, \"BLI\",\"shear\")\n",
    "fig = plt.figure()\n",
    "plt.title(\"shear by 60 degree clockwise\")\n",
    "plt.imshow(im_BLI)\n",
    "fig.savefig(pathB+\"shear_60.png\")\n"
   ]
  },
  {
   "cell_type": "markdown",
   "id": "cddc7a3a",
   "metadata": {},
   "source": [
    "# Part C"
   ]
  },
  {
   "cell_type": "code",
   "execution_count": null,
   "id": "e0a72bce",
   "metadata": {},
   "outputs": [],
   "source": [
    "print(\"Working on part C\")"
   ]
  },
  {
   "cell_type": "markdown",
   "id": "745d990f",
   "metadata": {},
   "source": [
    "c) Analyse the results when you change the order of the two operators: R(S(I)) and S(R(I)).\n",
    "i) Rotate the image by θ1 = 20 clockwise and then skew the result by θ2 = 50.\n",
    "ii) Skew the image by θ2 = 50 and then rotate the result by θ1 = 20 clockwise.\n",
    "Are the results of (i) and (ii) the same? Why?"
   ]
  },
  {
   "cell_type": "code",
   "execution_count": null,
   "id": "46d97fcf",
   "metadata": {
    "scrolled": true
   },
   "outputs": [],
   "source": [
    "#Rotate the image by θ1 = 20 clockwise and then skew the result by θ2 = 50\n",
    "im_BLI_rotate = ICV_rotate_image_inv(im, -20/180*np.pi, \"BLI\",\"rotation\")\n",
    "im_BLI_rotshear = ICV_rotate_image_inv(im_BLI_rotate,  -50/180*np.pi, \"BLI\",\"shear\")\n",
    "\n",
    "fig = plt.figure()\n",
    "plt.title(\"Rotate by 20 degree clockwise and then shear by 50 degree\")\n",
    "plt.imshow(im_BLI_rotshear)\n",
    "fig.savefig(pathC+\"rotate_20_shear_50.png\")"
   ]
  },
  {
   "cell_type": "code",
   "execution_count": null,
   "id": "64a69709",
   "metadata": {
    "scrolled": true
   },
   "outputs": [],
   "source": [
    "#Skew the image by θ2 = 50 and then rotate the result by θ1 = 20 clockwise.\n",
    "im_BLI_skew = ICV_rotate_image_inv(im, -50/180*np.pi, \"BLI\",\"shear\")\n",
    "im_BLI_shearrot = ICV_rotate_image_inv(im_BLI_skew,  -20/180*np.pi, \"BLI\",\"rotation\")\n",
    "\n",
    "fig = plt.figure()\n",
    "plt.title(\"shear by 50 degree clockwise and then rotate by 20 degree\")\n",
    "plt.imshow(im_BLI_shearrot)\n",
    "fig.savefig(pathC+\"shear_50_rotate_20.png\")"
   ]
  },
  {
   "cell_type": "code",
   "execution_count": null,
   "id": "e04b78af",
   "metadata": {},
   "outputs": [],
   "source": []
  }
 ],
 "metadata": {
  "kernelspec": {
   "display_name": "Python 3",
   "language": "python",
   "name": "python3"
  },
  "language_info": {
   "codemirror_mode": {
    "name": "ipython",
    "version": 3
   },
   "file_extension": ".py",
   "mimetype": "text/x-python",
   "name": "python",
   "nbconvert_exporter": "python",
   "pygments_lexer": "ipython3",
   "version": "3.9.4"
  }
 },
 "nbformat": 4,
 "nbformat_minor": 5
}
