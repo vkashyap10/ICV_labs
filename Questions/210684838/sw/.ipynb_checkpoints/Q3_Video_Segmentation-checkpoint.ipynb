{
 "cells": [
  {
   "cell_type": "code",
   "execution_count": null,
   "id": "f09364db",
   "metadata": {},
   "outputs": [],
   "source": [
    "import numpy as np\n",
    "import matplotlib.pyplot as plt\n",
    "import cv2\n",
    "from matplotlib.pyplot import figure"
   ]
  },
  {
   "cell_type": "code",
   "execution_count": null,
   "id": "996b90f9",
   "metadata": {},
   "outputs": [],
   "source": [
    "# define path to store results\n",
    "\n",
    "data_path = 'Dataset/DatasetB.avi'\n",
    "# create directory to store results\n",
    "!mkdir Results\n",
    "!mkdir Results/Q3\n",
    "!mkdir Results/Q3/partA\n",
    "!mkdir Results/Q3/partB\n",
    "\n",
    "\n",
    "pathA = \"Results/Q3/partA/\"\n",
    "pathB = \"Results/Q3/partB/\""
   ]
  },
  {
   "cell_type": "markdown",
   "id": "bf2480f7",
   "metadata": {},
   "source": [
    "# Part A"
   ]
  },
  {
   "cell_type": "code",
   "execution_count": null,
   "id": "07a97e74",
   "metadata": {},
   "outputs": [],
   "source": [
    "print(\"working on part A\")"
   ]
  },
  {
   "cell_type": "raw",
   "id": "e61a2a41",
   "metadata": {},
   "source": [
    "a) Write a histogram function that returns the colour histogram of an input image. Visualize the histogram and save the corresponding figure. For a given video sequence, use the above function to construct the histogram of each frame."
   ]
  },
  {
   "cell_type": "code",
   "execution_count": null,
   "id": "652ab144",
   "metadata": {
    "scrolled": true
   },
   "outputs": [],
   "source": [
    "# function to compute and store histogram of an image\n",
    "# input : img : image to compute histogram of\n",
    "#.        plot_bool : True if you want to store and display histogram\n",
    "#         save_path : path to save image at\n",
    "#         frame_num : identifier of image\n",
    "# returns : x and y for histogram\n",
    "\n",
    "def ICV_img_histogram(img,plot_bool,save_path,frame_num):\n",
    "    \n",
    "    # array to store number of times a color appears in an image\n",
    "    color_freq = np.zeros((256,3))\n",
    "        \n",
    "    # build and display histogram for R,G and B separately\n",
    "    color_list = ['Red channel','Green channel','Blue channel']\n",
    "    for rgb in range(3):\n",
    "        \n",
    "        img_to_consider = img[:,:,rgb]\n",
    "        # go through each pixel in the image and 1 to color_freq for the color that appears\n",
    "        for i in range(img_to_consider.shape[0]):\n",
    "            for j in range(img_to_consider.shape[1]):\n",
    "                color_freq[img_to_consider[i,j],rgb] = color_freq[img_to_consider[i,j],rgb] + 1\n",
    "    \n",
    "    x_Axis = np.arange(256).reshape(-1,1)\n",
    "    if(plot_bool==True):\n",
    "        # use pyplot.bar to make histogram\n",
    "        fig = plt.figure(figsize=(15, 15), dpi=80)\n",
    "        plt.bar(np.squeeze(x_Axis), color_freq[:,0], alpha = 0.33, color='red')\n",
    "        plt.bar(np.squeeze(x_Axis), color_freq[:,1], alpha = 0.33, color='green')\n",
    "        plt.bar(np.squeeze(x_Axis), color_freq[:,2], alpha = 0.33, color='blue')\n",
    "        plt.xlabel(\"Intensity Bins\")\n",
    "        plt.ylabel(\"Number of pixels in bin\")\n",
    "        plt.title(\"Image color histogram of original image\")\n",
    "        fig.savefig(save_path+\"Frame_\"+str(frame_num)+\".png\")\n",
    "        plt.show()\n",
    "    \n",
    "    return x_Axis,color_freq\n",
    "\n"
   ]
  },
  {
   "cell_type": "code",
   "execution_count": null,
   "id": "e61ca3da",
   "metadata": {},
   "outputs": [],
   "source": [
    "# load image to test function\n",
    "vidcap = cv2.VideoCapture(data_path)\n",
    "success,image = vidcap.read()\n",
    "# convert image in rgb format\n",
    "# as opencv loads in BGR format by default, we want to show it in RGB.\n",
    "image = cv2.cvtColor(image, cv2.COLOR_BGR2RGB)"
   ]
  },
  {
   "cell_type": "code",
   "execution_count": null,
   "id": "1d39a213",
   "metadata": {
    "scrolled": true
   },
   "outputs": [],
   "source": [
    "# use 1 bin per pixel value from 0 to 255\n",
    "# pass False instead of True if you do not want images to be displayed\n",
    "x_Axis,color_freq = ICV_img_histogram(image,True,pathA,'1')"
   ]
  },
  {
   "cell_type": "code",
   "execution_count": null,
   "id": "e7cd867b",
   "metadata": {
    "scrolled": true
   },
   "outputs": [],
   "source": [
    "# go through frames in the vidoe and display histogram:\n",
    "\n",
    "vidcap = cv2.VideoCapture(data_path)\n",
    "i = 0\n",
    "while(1):\n",
    "    print(\"Frame\", i)\n",
    "    i = i + 1\n",
    "    success,image = vidcap.read()\n",
    "    \n",
    "    # check if there are still frames left to process\n",
    "    if(success==False):\n",
    "        print(\"break\")\n",
    "        break\n",
    "        \n",
    "    # convert image in rgb format\n",
    "    # as opencv loads in BGR format by default, we want to show it in RGB.\n",
    "    image = cv2.cvtColor(image, cv2.COLOR_BGR2RGB)\n",
    "    \n",
    "    x_Axis,color_freq = ICV_img_histogram(image,False,pathA,i)\n",
    "    "
   ]
  },
  {
   "cell_type": "markdown",
   "id": "cc0356cb",
   "metadata": {},
   "source": [
    "# Part B Intersection between histograms"
   ]
  },
  {
   "cell_type": "code",
   "execution_count": null,
   "id": "213ffeaf",
   "metadata": {},
   "outputs": [],
   "source": [
    "print(\"working on part B\")"
   ]
  },
  {
   "cell_type": "raw",
   "id": "66b05a3f",
   "metadata": {},
   "source": [
    "b) Write a function that returns the value of the intersection of a pair of histograms. For a given video sequence, use the histogram intersection function to calculate the intersection between consecutive frames (e.g. between It and It+1, between It+1 and It+2 and so on). Find how to normalize the intersection. Does that change the results? Plot the intersection values over time and the normalised intersection values, and save the corresponding figures. Show and comment the figures in the report.\n"
   ]
  },
  {
   "cell_type": "code",
   "execution_count": null,
   "id": "c9c7143d",
   "metadata": {},
   "outputs": [],
   "source": [
    "# function to compute intersection between histograms\n",
    "# input : x_Axis : index of array storing color frequencies, useful to plot histogram\n",
    "#         color_freq_1 : color frequency in image 1\n",
    "#         color_freq_2 : color frequency in image 2\n",
    "#         plot_bool : True if you want to display image\n",
    "\n",
    "# return : red_intersection : intersection in red channel\n",
    "#          green_intersection : intersection in green channel\n",
    "#          blue_intersection : intersection in blue channel\n",
    "\n",
    "def ICV_hist_intersection(x_Axis,color_freq_1,color_freq_2,plot_bool):\n",
    "    red_intersection = np.zeros((256))\n",
    "    green_intersection = np.zeros((256))\n",
    "    blue_intersection = np.zeros((256))\n",
    "    \n",
    "    for i in range(color_freq.shape[0]):\n",
    "        red_intersection[i] = np.minimum(color_freq_1[i,0],color_freq_2[i,0])\n",
    "        green_intersection[i] = np.minimum(color_freq_1[i,1],color_freq_2[i,1])\n",
    "        blue_intersection[i] = np.minimum(color_freq_1[i,2],color_freq_2[i,2])\n",
    "\n",
    "    x_Axis = np.arange(256).reshape(-1,1)\n",
    "    if(plot_bool==True):\n",
    "        # use pyplot.bar to make histogram\n",
    "        fig = plt.figure(figsize=(15, 15), dpi=80)\n",
    "        plt.bar(np.squeeze(x_Axis), red_intersection, alpha = 0.33, color='red')\n",
    "        plt.bar(np.squeeze(x_Axis), green_intersection, alpha = 0.33, color='green')\n",
    "        plt.bar(np.squeeze(x_Axis), blue_intersection, alpha = 0.33, color='blue')\n",
    "        plt.xlabel(\"Intensity Bins\")\n",
    "        plt.ylabel(\"Number of pixels in bin\")\n",
    "        plt.title(\"Histogram intersection\")\n",
    "        plt.show()\n",
    "    \n",
    "    red_intersection = np.sum(red_intersection)\n",
    "    green_intersection = np.sum(green_intersection)\n",
    "    blue_intersection = np.sum(blue_intersection)\n",
    "    \n",
    "    return red_intersection,green_intersection,blue_intersection\n",
    "    "
   ]
  },
  {
   "cell_type": "markdown",
   "id": "b029ac1f",
   "metadata": {},
   "source": [
    "# i) without normalization"
   ]
  },
  {
   "cell_type": "code",
   "execution_count": null,
   "id": "a4fe6ace",
   "metadata": {
    "scrolled": true
   },
   "outputs": [],
   "source": [
    "# go through frames in the video and compute histogram intersection WITHOUT normalization:\n",
    "vidcap = cv2.VideoCapture(data_path)\n",
    "i = 0\n",
    "\n",
    "# list to store intersection value for all frames\n",
    "red_intersection_array = []\n",
    "green_intersection_array = []\n",
    "blue_intersection_array = []\n",
    "\n",
    "# convert image in rgb format\n",
    "# as opencv loads in BGR format by default, we want to show it in RGB.\n",
    "success,old_image = vidcap.read()\n",
    "old_image = cv2.cvtColor(old_image, cv2.COLOR_BGR2RGB)\n",
    "\n",
    "while(1):\n",
    "    print(\"Frame\", i ,\"and\",\"Frame\", i+1)\n",
    "    i = i + 1\n",
    "    success,new_image = vidcap.read()\n",
    "    \n",
    "    # check if all frames have been processed\n",
    "    if(success==False):\n",
    "        print(\"break\")\n",
    "        break\n",
    "    \n",
    "    # convert image in rgb format\n",
    "    # as opencv loads in BGR format by default, we want to show it in RGB.\n",
    "    new_image = cv2.cvtColor(new_image, cv2.COLOR_BGR2RGB)\n",
    "    \n",
    "#     plt.imshow(old_image)\n",
    "#     plt.title(\"Frame t-1\")\n",
    "#     plt.show()\n",
    "    \n",
    "#     plt.imshow(new_image)\n",
    "#     plt.title(\"Frame t\")\n",
    "#     plt.show()\n",
    "    \n",
    "    x_Axis,color_freq1 = ICV_img_histogram(old_image,False,'random','random')\n",
    "    x_Axis,color_freq2 = ICV_img_histogram(new_image,False,'random','random')\n",
    "    \n",
    "    # get intersection values of frame i and frame i-1 histograms and store\n",
    "    red_intersection,green_intersection,blue_intersection = ICV_hist_intersection(x_Axis,color_freq1,color_freq2,False)\n",
    "    red_intersection_array.append(red_intersection)\n",
    "    green_intersection_array.append(green_intersection)\n",
    "    blue_intersection_array.append(blue_intersection)\n",
    "    \n",
    "    old_image = new_image\n"
   ]
  },
  {
   "cell_type": "code",
   "execution_count": null,
   "id": "e45fe9fd",
   "metadata": {},
   "outputs": [],
   "source": [
    "# plot and save intersection which is the mean of intersection of all 3 channels\n",
    "fig = plt.figure(figsize=(15, 6), dpi=80)\n",
    "plt.plot((np.array(red_intersection_array)+np.array(green_intersection_array)+np.array(blue_intersection_array))/3)\n",
    "plt.xlabel(\"Frame number\")\n",
    "plt.ylabel(\"intersection value\")\n",
    "plt.title(\"intersection between frame i and i+1\")\n",
    "fig.savefig(pathB+\"intersection_without_norm.png\")"
   ]
  },
  {
   "cell_type": "markdown",
   "id": "dbacea96",
   "metadata": {},
   "source": [
    "# Intersection between histograms after normalization"
   ]
  },
  {
   "cell_type": "code",
   "execution_count": null,
   "id": "fa81635c",
   "metadata": {
    "scrolled": true
   },
   "outputs": [],
   "source": [
    "# go through frames in the vidoe and compute histogram intersection between frame i and frame i-1\n",
    "vidcap = cv2.VideoCapture(data_path)\n",
    "i = 0\n",
    "\n",
    "# to store intersection value along channels for all frames\n",
    "red_intersection_array_norm = []\n",
    "green_intersection_array_norm = []\n",
    "blue_intersection_array_norm = []\n",
    "\n",
    "# convert image in rgb format\n",
    "# as opencv loads in BGR format by default, we want to show it in RGB.\n",
    "success,old_image = vidcap.read()\n",
    "old_image = cv2.cvtColor(old_image, cv2.COLOR_BGR2RGB)\n",
    "\n",
    "while(1):\n",
    "    print(\"Frame\", i ,\"and\",\"Frame\", i+1)\n",
    "    i = i + 1\n",
    "    success,new_image = vidcap.read()\n",
    "    \n",
    "    # chekc if all frames have been processed\n",
    "    if(success==False):\n",
    "        print(\"break\")\n",
    "        break\n",
    "    \n",
    "    # convert image in rgb format\n",
    "    # as opencv loads in BGR format by default, we want to show it in RGB.\n",
    "    new_image = cv2.cvtColor(new_image, cv2.COLOR_BGR2RGB)\n",
    "    \n",
    "    # get histogram\n",
    "    x_Axis,color_freq1 = ICV_img_histogram(old_image,False,'random','random')\n",
    "    x_Axis,color_freq2 = ICV_img_histogram(new_image,False,'random','random')\n",
    "\n",
    "    # normalize frequency of color occurance\n",
    "    color_freq1 = color_freq1/np.sum(color_freq1,0)\n",
    "    color_freq2 = color_freq2/np.sum(color_freq2,0)\n",
    "    \n",
    "    red_intersection,green_intersection,blue_intersection = ICV_hist_intersection(x_Axis,color_freq1,color_freq2,False)\n",
    "    red_intersection_array_norm.append(red_intersection)\n",
    "    green_intersection_array_norm.append(green_intersection)\n",
    "    blue_intersection_array_norm.append(blue_intersection)\n",
    "    \n",
    "    old_image = new_image\n"
   ]
  },
  {
   "cell_type": "code",
   "execution_count": null,
   "id": "7d9a274d",
   "metadata": {},
   "outputs": [],
   "source": [
    "# display similarities between consecutive frames\n",
    "fig = plt.figure(figsize=(15, 6), dpi=80)\n",
    "plt.plot((np.array(red_intersection_array_norm)+np.array(green_intersection_array_norm)+np.array(blue_intersection_array_norm))/3)\n",
    "plt.xlabel(\"Frame number\")\n",
    "plt.ylabel(\"intersection value\")\n",
    "plt.title(\"intersection between frame i and i+1\")\n",
    "fig.savefig(pathB+\"intersection_with_norm.png\")"
   ]
  },
  {
   "cell_type": "raw",
   "id": "2a2f0172",
   "metadata": {},
   "source": [
    "c) Discuss in the report the following: What does the intersection value represent for a given input video? Can you use it to make a decision about scene changes? How robust to changes in the video is the histogram intersection? When does it fail?"
   ]
  }
 ],
 "metadata": {
  "kernelspec": {
   "display_name": "Python 3",
   "language": "python",
   "name": "python3"
  },
  "language_info": {
   "codemirror_mode": {
    "name": "ipython",
    "version": 3
   },
   "file_extension": ".py",
   "mimetype": "text/x-python",
   "name": "python",
   "nbconvert_exporter": "python",
   "pygments_lexer": "ipython3",
   "version": "3.9.4"
  }
 },
 "nbformat": 4,
 "nbformat_minor": 5
}
