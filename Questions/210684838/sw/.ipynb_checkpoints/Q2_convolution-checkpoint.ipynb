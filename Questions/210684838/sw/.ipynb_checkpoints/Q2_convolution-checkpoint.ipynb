{
 "cells": [
  {
   "cell_type": "markdown",
   "id": "8a21dac4",
   "metadata": {},
   "source": [
    "# ICV_Question 2"
   ]
  },
  {
   "cell_type": "code",
   "execution_count": null,
   "id": "9f29955f",
   "metadata": {},
   "outputs": [],
   "source": [
    "## import necessary libraries\n",
    "import numpy as np\n",
    "import cv2\n",
    "import matplotlib.pyplot as plt\n",
    "from matplotlib.pyplot import figure\n",
    "import matplotlib.image as mpimg\n"
   ]
  },
  {
   "cell_type": "code",
   "execution_count": null,
   "id": "1bf1f699",
   "metadata": {},
   "outputs": [],
   "source": [
    "# get name of images\n",
    "import os\n",
    "jpg_files = []\n",
    "for root, dirs, files in os.walk(\".\"):\n",
    "    for filename in files:\n",
    "        if \"jpg\" in filename:\n",
    "            jpg_files.append(filename)"
   ]
  },
  {
   "cell_type": "code",
   "execution_count": null,
   "id": "c5e30020",
   "metadata": {},
   "outputs": [],
   "source": [
    "data_path = 'Dataset/DatasetA/'\n",
    "# create directory to store results\n",
    "!mkdir Results\n",
    "!mkdir Results/Q2\n",
    "!mkdir Results/Q2/partB\n",
    "!mkdir Results/Q2/partC\n",
    "!mkdir Results/Q2/partD\n",
    "\n",
    "pathB = \"Results/Q2/partB/\"\n",
    "pathC = \"Results/Q2/partC/\"\n",
    "pathD = \"Results/Q2/partD/\""
   ]
  },
  {
   "cell_type": "markdown",
   "id": "efd689fc",
   "metadata": {},
   "source": [
    "## Part A"
   ]
  },
  {
   "cell_type": "raw",
   "id": "04541d68",
   "metadata": {},
   "source": [
    "a) Code a function that takes an input image, performs convolution with a given kernel, and returns the resulting image."
   ]
  },
  {
   "cell_type": "code",
   "execution_count": null,
   "id": "c526fb14",
   "metadata": {},
   "outputs": [],
   "source": [
    "print(\"Working on part A\")"
   ]
  },
  {
   "cell_type": "code",
   "execution_count": null,
   "id": "8f7b0f74",
   "metadata": {},
   "outputs": [],
   "source": [
    "# function takes an image and convolution kernel. Does filtering and returns image. You can choose how you want to\n",
    "# deal with borders: pad with zeros, periodically repeat, or take mirror image\n",
    "# input : image : image to take convolution of\n",
    "#         border_control : how to deal with border : \"zeros\",\"periodic\" or \"mirror\"\n",
    "\n",
    "def ICV_convolution(image,kernel,border_control):\n",
    "    im_width,im_height = image.shape[0],image.shape[1]\n",
    "    k_width,k_height = kernel.shape[0],kernel.shape[1]\n",
    "    \n",
    "    # compute number of pixels to ignore based on kernel dimensions\n",
    "    width_ignore = int(k_width/2)\n",
    "    height_ignore = int(k_height/2)\n",
    "    new_image = np.zeros(image.shape)\n",
    "    \n",
    "    # create an extended old image for handling border issues\n",
    "    extended_img = np.copy(image)\n",
    "    \n",
    "    # based on type of padding \n",
    "    # the matrix to pad will change based on type of control we want at image border\n",
    "    if border_control == \"zeros\":\n",
    "        to_pad_col_1 = np.zeros((image.shape[0],width_ignore,3)).astype(int)\n",
    "        to_pad_col_2 = np.copy(to_pad_col_1)\n",
    "        \n",
    "        to_pad_row_1 = np.zeros((height_ignore,image.shape[1]+width_ignore*2,3)).astype(int)\n",
    "        to_pad_row_2 = np.copy(to_pad_row_1)\n",
    "        \n",
    "    if border_control == \"periodic\":\n",
    "        to_pad_col_1 = image[:,:width_ignore,:]\n",
    "        to_pad_col_2 = image[:,-width_ignore:,:]\n",
    "        \n",
    "        to_pad_row_1 = np.zeros((height_ignore,image.shape[1]+width_ignore*2,3)).astype(int)\n",
    "        to_pad_row_1[:,width_ignore:-width_ignore,:] = image[:height_ignore,:,:]\n",
    "        \n",
    "        to_pad_row_2 = np.zeros((height_ignore,image.shape[1]+width_ignore*2,3)).astype(int)\n",
    "        to_pad_row_2[:,width_ignore:-width_ignore,:] = image[-height_ignore:,:,:]\n",
    "        \n",
    "    if border_control == \"mirror\":\n",
    "        to_pad_col_1_temp = image[:,:width_ignore,:]\n",
    "        to_pad_col_2_temp = image[:,-width_ignore:,:]\n",
    "        \n",
    "        to_pad_col_1 = to_pad_col_1_temp.copy()\n",
    "        to_pad_col_2 = to_pad_col_2_temp.copy()\n",
    "        \n",
    "        for k in range(to_pad_col_1_temp.shape[1]):\n",
    "            to_pad_col_1[:,-(k+1),:] = to_pad_col_1_temp[:,k,:]\n",
    "            to_pad_col_2[:,-(k+1),:] = to_pad_col_2_temp[:,k,:]\n",
    "        \n",
    "        to_pad_row_1_temp = np.zeros((height_ignore,image.shape[1]+width_ignore*2,3)).astype(int)\n",
    "        to_pad_row_1_temp[:,width_ignore:-width_ignore,:] = image[:height_ignore,:,:]\n",
    "        \n",
    "        to_pad_row_2_temp = np.zeros((height_ignore,image.shape[1]+width_ignore*2,3)).astype(int)\n",
    "        to_pad_row_2_temp[:,width_ignore:-width_ignore,:] = image[-height_ignore:,:,:]\n",
    "        \n",
    "        to_pad_row_1 = to_pad_row_1_temp.copy()\n",
    "        to_pad_row_2 = to_pad_row_2_temp.copy()\n",
    "        \n",
    "        for k in range(to_pad_row_1_temp.shape[0]):\n",
    "            to_pad_row_1[-(k+1),:,:] = to_pad_row_1_temp[k,:,:]\n",
    "            to_pad_row_2[-(k+1),:,:] = to_pad_row_2_temp[k,:,:]\n",
    "        \n",
    "    # extend the image using the border created above\n",
    "    # extend columns\n",
    "    extended_img = np.hstack((to_pad_col_1,image))\n",
    "    extended_img = np.hstack((extended_img,to_pad_col_2))\n",
    "    # extend rows\n",
    "    extended_img = np.vstack((to_pad_row_1,extended_img))\n",
    "    extended_img = np.vstack((extended_img,to_pad_row_2))\n",
    "    \n",
    "    # loop through each pixel and compute convolution\n",
    "    for i in range(image.shape[0]):\n",
    "        for j in range(image.shape[1]):\n",
    "            im_crop = extended_img[i:i+k_width,j:j+k_height]\n",
    "            new_image[i,j,0],new_image[i,j,1],new_image[i,j,2] = np.sum(np.multiply(im_crop[:,:,0],kernel)),np.sum(np.multiply(im_crop[:,:,1],kernel)),np.sum(np.multiply(im_crop[:,:,2],kernel))\n",
    "\n",
    "    return new_image,extended_img\n",
    "        "
   ]
  },
  {
   "cell_type": "code",
   "execution_count": null,
   "id": "c695ce3e",
   "metadata": {
    "scrolled": true
   },
   "outputs": [],
   "source": [
    "# random image to take convolution of\n",
    "# figure(figsize=(14, 11))\n",
    "img = cv2.imread(data_path+jpg_files[0])\n",
    "# as opencv loads in BGR format by default, we want to show it in RGB.\n",
    "img = cv2.cvtColor(img, cv2.COLOR_BGR2RGB)\n",
    "plt.imshow(img)\n",
    "plt.show()"
   ]
  },
  {
   "cell_type": "code",
   "execution_count": null,
   "id": "b33b0a36",
   "metadata": {},
   "outputs": [],
   "source": [
    "# define kernels\n",
    "avg_kernel = np.matrix([[1, 1, 1],[1, 1 ,1],[1 ,1 ,1]])/9.0\n",
    "gauss_kernel = np.matrix([[1, 2, 1],[2, 4 ,2],[1 ,2 ,1]])/16.0\n",
    "gradient_kernel = np.matrix([[0, 1, 0],[1, -4 ,1],[0 ,1 ,0]])"
   ]
  },
  {
   "cell_type": "markdown",
   "id": "95a441b9",
   "metadata": {},
   "source": [
    "## test different methods for dealing with border (pad with zeros, periodic and mirror)"
   ]
  },
  {
   "cell_type": "code",
   "execution_count": null,
   "id": "5d71cbe5",
   "metadata": {},
   "outputs": [],
   "source": [
    "# analyse with an extreme case where the kernel is big\n",
    "big_kernel = np.ones((21,21))/21/21\n",
    "img_output_avg_zeros,extended_img_zeros = ICV_convolution(img,big_kernel,\"zeros\")\n",
    "img_output_avg_periodic,extended_img_periodic = ICV_convolution(img,big_kernel,\"periodic\")\n",
    "img_output_avg_mirror,extended_img_mirror = ICV_convolution(img,big_kernel,\"mirror\")"
   ]
  },
  {
   "cell_type": "code",
   "execution_count": null,
   "id": "6892ca8d",
   "metadata": {
    "scrolled": true
   },
   "outputs": [],
   "source": [
    "# different border handling and their results \n",
    "imgplot = plt.imshow(extended_img_zeros)\n",
    "plt.title(\"zero padding extended image used\")\n",
    "plt.show()\n",
    "imgplot = plt.imshow(img_output_avg_zeros/255)\n",
    "plt.title(\"zero padding filtered image\")\n",
    "plt.show()\n",
    "\n",
    "imgplot = plt.imshow(extended_img_periodic)\n",
    "plt.title(\"periodic extended image used\")\n",
    "plt.show()\n",
    "imgplot = plt.imshow(img_output_avg_periodic/255)\n",
    "plt.title(\"periodic filtered image\")\n",
    "plt.show()\n",
    "\n",
    "imgplot = plt.imshow(extended_img_mirror)\n",
    "plt.title(\"mirror extended image used\")\n",
    "plt.show()\n",
    "imgplot = plt.imshow(img_output_avg_mirror/255)\n",
    "plt.title(\"mirror filtered image\")\n",
    "plt.show()"
   ]
  },
  {
   "cell_type": "markdown",
   "id": "961f7eb2",
   "metadata": {},
   "source": [
    "## Part B"
   ]
  },
  {
   "cell_type": "code",
   "execution_count": null,
   "id": "eae03c64",
   "metadata": {},
   "outputs": [],
   "source": [
    "print(\"Working on part B\")"
   ]
  },
  {
   "cell_type": "raw",
   "id": "1b9e9dfe",
   "metadata": {},
   "source": [
    "b) Design a convolution kernel that computes, for each pixel, the average intensity value in a 3x3 region. Use this kernel and the filtering function above, and save the resulting image."
   ]
  },
  {
   "cell_type": "code",
   "execution_count": null,
   "id": "1455a5e2",
   "metadata": {
    "scrolled": true
   },
   "outputs": [],
   "source": [
    "# loop through images and use average kernel on them\n",
    "frame_num = 0\n",
    "for img_name in jpg_files:\n",
    "    frame_num = frame_num + 1\n",
    "    img = cv2.imread(data_path + img_name)\n",
    "    # as opencv loads in BGR format by default, we want to show it in RGB.\n",
    "    img = cv2.cvtColor(img, cv2.COLOR_BGR2RGB)\n",
    "    \n",
    "    img_output_avg,ext_img= ICV_convolution(img,avg_kernel,\"mirror\")\n",
    "    fig = plt.figure()\n",
    "    plt.imshow(img_output_avg/255)\n",
    "    plt.title(\"average kernel\")\n",
    "    fig.savefig(pathB+\"Frame_\"+str(frame_num)+\".png\")\n",
    "    plt.show()"
   ]
  },
  {
   "cell_type": "markdown",
   "id": "78a7a86d",
   "metadata": {},
   "source": [
    "## Part c"
   ]
  },
  {
   "cell_type": "code",
   "execution_count": null,
   "id": "57b4191b",
   "metadata": {},
   "outputs": [],
   "source": [
    "print(\"Working on part C\")"
   ]
  },
  {
   "cell_type": "raw",
   "id": "6d35cbd4",
   "metadata": {},
   "source": [
    "c) Use the kernels provided below, apply the filtering function and save the resulting images. Comment on the effect of each kernel."
   ]
  },
  {
   "cell_type": "code",
   "execution_count": null,
   "id": "92b24b87",
   "metadata": {
    "scrolled": true
   },
   "outputs": [],
   "source": [
    "# use kernel A and save results\n",
    "for img_name in jpg_files:\n",
    "    img = cv2.imread(data_path + img_name)\n",
    "    img = cv2.cvtColor(img, cv2.COLOR_BGR2RGB)\n",
    "    img_output_gauss, extended_gauss= ICV_convolution(img,gauss_kernel,'mirror')\n",
    "    \n",
    "    fig = plt.figure()\n",
    "    plt.imshow(img_output_gauss/255)\n",
    "    plt.title(\"Using kernel A\")\n",
    "    fig.savefig(pathC+\"KernelA_Frame_\"+str(frame_num)+\".png\")\n",
    "    plt.show()"
   ]
  },
  {
   "cell_type": "code",
   "execution_count": null,
   "id": "5ca56338",
   "metadata": {
    "scrolled": true
   },
   "outputs": [],
   "source": [
    "# Use kernel B with a percentile thrsehold to detect edges. In this case highest 10% values from kernel B are \n",
    "# detected as edges.\n",
    "for img_name in jpg_files:\n",
    "    img = cv2.imread(data_path + img_name)\n",
    "    img = cv2.cvtColor(img, cv2.COLOR_BGR2RGB)\n",
    "    img_output_grad,img_extended_grad = ICV_convolution(img,gradient_kernel,'mirror')\n",
    "    \n",
    "    # convert gradient image to grayscale\n",
    "    img_output_grad = img_output_grad[:,:,0]*1/3 + img_output_grad[:,:,1]*1/3 + img_output_grad[:,:,2]*1/3\n",
    "    # let us assume 10% of pixels form edges in our images, according to that we find edges based on gradient value\n",
    "    img_output_grad[img_output_grad<np.percentile(img_output_grad,90)]=0.0\n",
    "    img_output_grad[img_output_grad>=np.percentile(img_output_grad,90)]=1.0\n",
    "    \n",
    "    fig = plt.figure()\n",
    "    plt.imshow(img_output_grad,cmap='gray')\n",
    "    plt.title(\"Using kernel B with percentile threshold\")\n",
    "    fig.savefig(pathC+\"KernelB_percentile_Frame_\"+str(frame_num)+\".png\")\n",
    "    plt.show()\n"
   ]
  },
  {
   "cell_type": "code",
   "execution_count": null,
   "id": "ce9d60ad",
   "metadata": {
    "scrolled": true
   },
   "outputs": [],
   "source": [
    "# Use kernel B with images, instead of taking percentile threshold take absolute value as threshold. 25 here\n",
    "\n",
    "for img_name in jpg_files:\n",
    "    img = cv2.imread(data_path + img_name)\n",
    "    img = cv2.cvtColor(img, cv2.COLOR_BGR2RGB)\n",
    "    img_output_grad,img_extended_grad = ICV_convolution(img,gradient_kernel,'mirror')\n",
    "    \n",
    "    # convert gradient image to grayscale\n",
    "    img_output_grad = img_output_grad[:,:,0]*1/3 + img_output_grad[:,:,1]*1/3 + img_output_grad[:,:,2]*1/3\n",
    "    # let us assume 10% of pixels form edges in our images, according to that we find edges based on gradient value\n",
    "    img_output_grad[img_output_grad<25]=0.0\n",
    "    img_output_grad[img_output_grad>=25]=1.0\n",
    "    \n",
    "    fig = plt.figure()\n",
    "    plt.imshow(img_output_grad,cmap='gray')\n",
    "    plt.title(\"Using kernel B with hard threshold\")\n",
    "    fig.savefig(pathC+\"KernelB_hard_Frame_\"+str(frame_num)+\".png\")\n",
    "    plt.show()\n"
   ]
  },
  {
   "cell_type": "markdown",
   "id": "cf6230f2",
   "metadata": {},
   "source": [
    "## Part D"
   ]
  },
  {
   "cell_type": "code",
   "execution_count": null,
   "id": "2f9d82d7",
   "metadata": {},
   "outputs": [],
   "source": [
    "print(\"Working on part D\")"
   ]
  },
  {
   "cell_type": "raw",
   "id": "29aba871",
   "metadata": {},
   "source": [
    "d) Use the filtering function for the following filtering operations: (i) A followed by A; (ii) A followed by B; (iii) B followed by A. Comment the results."
   ]
  },
  {
   "cell_type": "markdown",
   "id": "14d6c7a0",
   "metadata": {},
   "source": [
    "### i)"
   ]
  },
  {
   "cell_type": "code",
   "execution_count": null,
   "id": "ccb65773",
   "metadata": {
    "scrolled": true
   },
   "outputs": [],
   "source": [
    "# A followed by A\n",
    "frame_num = 0\n",
    "\n",
    "for img_name in jpg_files:\n",
    "    frame_num = frame_num+1\n",
    "    img = cv2.imread(data_path + img_name)\n",
    "    img = cv2.cvtColor(img, cv2.COLOR_BGR2RGB)\n",
    "    \n",
    "    img_output_gauss,img_ext = ICV_convolution(img,gauss_kernel,'mirror')\n",
    "    img_output_gauss2,img_ext = ICV_convolution(img_output_gauss,gauss_kernel,'mirror')\n",
    "    \n",
    "    fig = plt.figure()\n",
    "    plt.imshow(img_output_gauss2/255)\n",
    "    plt.title(\"A followed by A\")\n",
    "    fig.savefig(pathD+\"A_followed_A\"+str(frame_num)+\".png\")\n",
    "    plt.show()"
   ]
  },
  {
   "cell_type": "markdown",
   "id": "73c350b9",
   "metadata": {},
   "source": [
    "### ii)"
   ]
  },
  {
   "cell_type": "code",
   "execution_count": null,
   "id": "ba798e74",
   "metadata": {
    "scrolled": true
   },
   "outputs": [],
   "source": [
    "# A followed by B\n",
    "frame_num = 0\n",
    "for img_name in jpg_files:\n",
    "    frame_num = frame_num + 1\n",
    "    img = mpimg.imread(data_path+img_name)\n",
    "    # take gaussian\n",
    "    img_output_gauss,img_ext = ICV_convolution(img,gauss_kernel,'mirror')\n",
    "    # take gradient\n",
    "    img_output_grad2,img_ext = ICV_convolution(img_output_gauss,gradient_kernel,'mirror')\n",
    "    \n",
    "    img_out_gauss_grad = img_output_grad2.copy()\n",
    "    \n",
    "    # apply threhold\n",
    "    img_output_grad2 = img_output_grad2[:,:,0]*1/3 + img_output_grad2[:,:,1]*1/3 + img_output_grad2[:,:,2]*1/3\n",
    "    # let us assume 10% of pixels form edges in our images, according to that we find edges based on gradient value\n",
    "    img_output_grad2[img_output_grad2<np.percentile(img_output_grad2,90)]=0.0\n",
    "    img_output_grad2[img_output_grad2>=np.percentile(img_output_grad2,90)]=1.0\n",
    "    \n",
    "    fig = plt.figure()\n",
    "    plt.imshow(img_output_grad2,cmap='gray')\n",
    "    plt.title(\"A followed by B\")\n",
    "    fig.savefig(pathD+\"A_followed_B\"+str(frame_num)+\".png\")\n",
    "    plt.show()\n"
   ]
  },
  {
   "cell_type": "markdown",
   "id": "08e3bcf6",
   "metadata": {},
   "source": [
    "### iii)"
   ]
  },
  {
   "cell_type": "code",
   "execution_count": null,
   "id": "f9dd930b",
   "metadata": {
    "scrolled": true
   },
   "outputs": [],
   "source": [
    "# B followed by A\n",
    "frame_num = 0\n",
    "for img_name in jpg_files:\n",
    "    frame_num = frame_num + 1\n",
    "    img = mpimg.imread(data_path+img_name)\n",
    "    \n",
    "    # apply gradient kernel\n",
    "    img_output_grad,img_ext= ICV_convolution(img,gradient_kernel,'mirror')\n",
    "    \n",
    "    # apply gradient kernel\n",
    "    img_output_gauss2,img_ext= ICV_convolution(img_output_grad,gauss_kernel,'mirror')\n",
    "    \n",
    "    img_out_grad_gauss = img_output_gauss2.copy()\n",
    "    \n",
    "    # use threshold to get edges\n",
    "    img_output_gauss2 = img_output_gauss2[:,:,0]*1/3 + img_output_gauss2[:,:,1]*1/3 + img_output_gauss2[:,:,2]*1/3\n",
    "    # let us assume 10% of pixels form edges in our images, according to that we find edges based on gradient value\n",
    "    img_output_gauss2[img_output_gauss2<np.percentile(img_output_gauss2,90)]=0.0\n",
    "    img_output_gauss2[img_output_gauss2>=np.percentile(img_output_gauss2,90)]=1.0\n",
    "    \n",
    "    fig = plt.figure()\n",
    "    plt.imshow(img_output_gauss2,cmap='gray')\n",
    "    plt.title(\"B followed by A\")\n",
    "    fig.savefig(pathD+\"B_followed_A\"+str(frame_num)+\".png\")\n",
    "    plt.show()\n",
    "    "
   ]
  },
  {
   "cell_type": "markdown",
   "id": "a1b71444",
   "metadata": {},
   "source": [
    "## Check if A followed by B is same as B followed by A "
   ]
  },
  {
   "cell_type": "code",
   "execution_count": null,
   "id": "ee8cbf25",
   "metadata": {
    "scrolled": true
   },
   "outputs": [],
   "source": [
    "img_grad,img_ext= ICV_convolution(img,gradient_kernel,'mirror')\n",
    "img_grad_gauss,img_ext= ICV_convolution(img_grad,gauss_kernel,'mirror')"
   ]
  },
  {
   "cell_type": "code",
   "execution_count": null,
   "id": "ebea7896",
   "metadata": {},
   "outputs": [],
   "source": [
    "img_gauss,img_ext= ICV_convolution(img,gradient_kernel,'mirror')\n",
    "img_gauss_grad,img_ext= ICV_convolution(img_gauss,gauss_kernel,'mirror')"
   ]
  },
  {
   "cell_type": "code",
   "execution_count": null,
   "id": "16dc458f",
   "metadata": {},
   "outputs": [],
   "source": [
    "# to remove effect at borders\n",
    "diff = np.sum(np.abs(img_grad_gauss[10:-10,10:-10,:] - img_gauss_grad[10:-10,10:-10,:]))\n",
    "print(\"differnece between A followed by B and B followed by A is \",diff)"
   ]
  },
  {
   "cell_type": "code",
   "execution_count": null,
   "id": "d9692879",
   "metadata": {},
   "outputs": [],
   "source": []
  }
 ],
 "metadata": {
  "kernelspec": {
   "display_name": "Python 3",
   "language": "python",
   "name": "python3"
  },
  "language_info": {
   "codemirror_mode": {
    "name": "ipython",
    "version": 3
   },
   "file_extension": ".py",
   "mimetype": "text/x-python",
   "name": "python",
   "nbconvert_exporter": "python",
   "pygments_lexer": "ipython3",
   "version": "3.9.4"
  }
 },
 "nbformat": 4,
 "nbformat_minor": 5
}
